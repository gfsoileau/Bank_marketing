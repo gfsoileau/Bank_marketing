{
 "cells": [
  {
   "cell_type": "code",
   "execution_count": 80,
   "metadata": {
    "collapsed": false
   },
   "outputs": [],
   "source": [
    "%matplotlib inline\n",
    "# print(__doc__)\n",
    "# from __future__ import print_function\n",
    "\n",
    "from sklearn.ensemble import GradientBoostingClassifier, RandomForestClassifier\n",
    "from sklearn.linear_model import LogisticRegression\n",
    "from sklearn.neighbors import KNeighborsClassifier\n",
    "from sklearn.svm import SVC\n",
    "from sklearn.tree import DecisionTreeClassifier\n",
    "from sklearn.naive_bayes import GaussianNB\n",
    "from sklearn.grid_search import GridSearchCV\n",
    "from sklearn.ensemble import ExtraTreesClassifier\n",
    "\n",
    "from sklearn.datasets import make_classification\n",
    "from sklearn.cross_validation import train_test_split\n",
    "from sklearn.metrics import roc_auc_score\n",
    "from sklearn import preprocessing\n",
    "from sklearn import cross_validation\n",
    "from sklearn.cross_validation import cross_val_score, KFold\n",
    "from sklearn.metrics import classification_report, precision_score, recall_score, f1_score, accuracy_score\n",
    "\n",
    "import pandas as pd\n",
    "import numpy as np\n",
    "import matplotlib.pyplot as plt\n",
    "\n",
    "import seaborn as sns"
   ]
  },
  {
   "cell_type": "code",
   "execution_count": 81,
   "metadata": {
    "collapsed": false
   },
   "outputs": [],
   "source": [
    "df = pd.read_csv('bank-additional.csv')"
   ]
  },
  {
   "cell_type": "code",
   "execution_count": 82,
   "metadata": {
    "collapsed": false
   },
   "outputs": [],
   "source": [
    "#Output value must be numerical, so I replaced categorical 'yes'/'no' with 1/0\n",
    "df.replace(['yes','no', 'unknown'],[1,0, np.nan], inplace=True)\n",
    "df = df.dropna()"
   ]
  },
  {
   "cell_type": "code",
   "execution_count": 83,
   "metadata": {
    "collapsed": false
   },
   "outputs": [],
   "source": [
    "def ed_preproc(ed):\n",
    "    ed_new = []\n",
    "    for e in ed:\n",
    "        if e == 'basic.4y' or e == 'basic.6y' or e == 'basic.9y' or e == 'illiterate' or e == 'high.school':\n",
    "            e = 'some'\n",
    "            ed_new.append(e)\n",
    "        else:\n",
    "            ed_new.append(e)\n",
    "    return ed_new\n",
    "df.education = ed_preproc(df.education)"
   ]
  },
  {
   "cell_type": "code",
   "execution_count": 84,
   "metadata": {
    "collapsed": false
   },
   "outputs": [],
   "source": [
    "def job_proc(job):\n",
    "    job_new = []\n",
    "    for j in job:\n",
    "        if j == 'entrepreneur':\n",
    "            j = 'self-employed'\n",
    "            job_new.append(j)\n",
    "        elif j == 'admin.' or j == 'services' or j == 'technician':\n",
    "            j = 'professional'\n",
    "            job_new.append(j)\n",
    "        elif j == 'housemaid':\n",
    "            j = 'unemployed'\n",
    "            job_new.append(j)\n",
    "        else:\n",
    "            job_new.append(j)\n",
    "    return job_new\n",
    "df.job = job_proc(df.job)"
   ]
  },
  {
   "cell_type": "code",
   "execution_count": 85,
   "metadata": {
    "collapsed": false
   },
   "outputs": [
    {
     "data": {
      "text/html": [
       "<div style=\"max-height:1000px;max-width:1500px;overflow:auto;\">\n",
       "<table border=\"1\" class=\"dataframe\">\n",
       "  <thead>\n",
       "    <tr style=\"text-align: right;\">\n",
       "      <th></th>\n",
       "      <th>age</th>\n",
       "      <th>job</th>\n",
       "      <th>marital</th>\n",
       "      <th>education</th>\n",
       "      <th>default</th>\n",
       "      <th>housing</th>\n",
       "      <th>loan</th>\n",
       "      <th>contact</th>\n",
       "      <th>month</th>\n",
       "      <th>day_of_week</th>\n",
       "      <th>...</th>\n",
       "      <th>campaign</th>\n",
       "      <th>pdays</th>\n",
       "      <th>previous</th>\n",
       "      <th>poutcome</th>\n",
       "      <th>emp.var.rate</th>\n",
       "      <th>cons.price.idx</th>\n",
       "      <th>cons.conf.idx</th>\n",
       "      <th>euribor3m</th>\n",
       "      <th>nr.employed</th>\n",
       "      <th>y</th>\n",
       "    </tr>\n",
       "  </thead>\n",
       "  <tbody>\n",
       "    <tr>\n",
       "      <th>0</th>\n",
       "      <td> 30</td>\n",
       "      <td>  blue-collar</td>\n",
       "      <td> married</td>\n",
       "      <td> some</td>\n",
       "      <td> 0</td>\n",
       "      <td> 1</td>\n",
       "      <td> 0</td>\n",
       "      <td>  cellular</td>\n",
       "      <td> may</td>\n",
       "      <td> fri</td>\n",
       "      <td>...</td>\n",
       "      <td> 2</td>\n",
       "      <td> 999</td>\n",
       "      <td> 0</td>\n",
       "      <td> nonexistent</td>\n",
       "      <td>-1.8</td>\n",
       "      <td> 92.893</td>\n",
       "      <td>-46.2</td>\n",
       "      <td> 1.313</td>\n",
       "      <td> 5099.1</td>\n",
       "      <td> 0</td>\n",
       "    </tr>\n",
       "    <tr>\n",
       "      <th>1</th>\n",
       "      <td> 39</td>\n",
       "      <td> professional</td>\n",
       "      <td>  single</td>\n",
       "      <td> some</td>\n",
       "      <td> 0</td>\n",
       "      <td> 0</td>\n",
       "      <td> 0</td>\n",
       "      <td> telephone</td>\n",
       "      <td> may</td>\n",
       "      <td> fri</td>\n",
       "      <td>...</td>\n",
       "      <td> 4</td>\n",
       "      <td> 999</td>\n",
       "      <td> 0</td>\n",
       "      <td> nonexistent</td>\n",
       "      <td> 1.1</td>\n",
       "      <td> 93.994</td>\n",
       "      <td>-36.4</td>\n",
       "      <td> 4.855</td>\n",
       "      <td> 5191.0</td>\n",
       "      <td> 0</td>\n",
       "    </tr>\n",
       "    <tr>\n",
       "      <th>2</th>\n",
       "      <td> 25</td>\n",
       "      <td> professional</td>\n",
       "      <td> married</td>\n",
       "      <td> some</td>\n",
       "      <td> 0</td>\n",
       "      <td> 1</td>\n",
       "      <td> 0</td>\n",
       "      <td> telephone</td>\n",
       "      <td> jun</td>\n",
       "      <td> wed</td>\n",
       "      <td>...</td>\n",
       "      <td> 1</td>\n",
       "      <td> 999</td>\n",
       "      <td> 0</td>\n",
       "      <td> nonexistent</td>\n",
       "      <td> 1.4</td>\n",
       "      <td> 94.465</td>\n",
       "      <td>-41.8</td>\n",
       "      <td> 4.962</td>\n",
       "      <td> 5228.1</td>\n",
       "      <td> 0</td>\n",
       "    </tr>\n",
       "  </tbody>\n",
       "</table>\n",
       "<p>3 rows × 21 columns</p>\n",
       "</div>"
      ],
      "text/plain": [
       "   age           job  marital education  default  housing  loan    contact  \\\n",
       "0   30   blue-collar  married      some        0        1     0   cellular   \n",
       "1   39  professional   single      some        0        0     0  telephone   \n",
       "2   25  professional  married      some        0        1     0  telephone   \n",
       "\n",
       "  month day_of_week ...  campaign  pdays  previous     poutcome emp.var.rate  \\\n",
       "0   may         fri ...         2    999         0  nonexistent         -1.8   \n",
       "1   may         fri ...         4    999         0  nonexistent          1.1   \n",
       "2   jun         wed ...         1    999         0  nonexistent          1.4   \n",
       "\n",
       "   cons.price.idx  cons.conf.idx  euribor3m  nr.employed  y  \n",
       "0          92.893          -46.2      1.313       5099.1  0  \n",
       "1          93.994          -36.4      4.855       5191.0  0  \n",
       "2          94.465          -41.8      4.962       5228.1  0  \n",
       "\n",
       "[3 rows x 21 columns]"
      ]
     },
     "execution_count": 85,
     "metadata": {},
     "output_type": "execute_result"
    }
   ],
   "source": [
    "df.head(3)\n"
   ]
  },
  {
   "cell_type": "code",
   "execution_count": 86,
   "metadata": {
    "collapsed": false
   },
   "outputs": [],
   "source": [
    "#convert categorical data to numeric dummy variables\n",
    "#Important note: this attribute highly affects the output target (e.g., if duration=0 \n",
    "#then y='no'). Yet, the duration is not known before a call is performed. \n",
    "df = pd.get_dummies(df)\n",
    "df['output'] = df.y\n",
    "del df['duration']\n",
    "del df['y']"
   ]
  },
  {
   "cell_type": "code",
   "execution_count": 87,
   "metadata": {
    "collapsed": false
   },
   "outputs": [
    {
     "data": {
      "text/html": [
       "<div style=\"max-height:1000px;max-width:1500px;overflow:auto;\">\n",
       "<table border=\"1\" class=\"dataframe\">\n",
       "  <thead>\n",
       "    <tr style=\"text-align: right;\">\n",
       "      <th></th>\n",
       "      <th>age</th>\n",
       "      <th>default</th>\n",
       "      <th>housing</th>\n",
       "      <th>loan</th>\n",
       "      <th>campaign</th>\n",
       "      <th>pdays</th>\n",
       "      <th>previous</th>\n",
       "      <th>emp.var.rate</th>\n",
       "      <th>cons.price.idx</th>\n",
       "      <th>cons.conf.idx</th>\n",
       "      <th>...</th>\n",
       "      <th>month_sep</th>\n",
       "      <th>day_of_week_fri</th>\n",
       "      <th>day_of_week_mon</th>\n",
       "      <th>day_of_week_thu</th>\n",
       "      <th>day_of_week_tue</th>\n",
       "      <th>day_of_week_wed</th>\n",
       "      <th>poutcome_failure</th>\n",
       "      <th>poutcome_nonexistent</th>\n",
       "      <th>poutcome_success</th>\n",
       "      <th>output</th>\n",
       "    </tr>\n",
       "  </thead>\n",
       "  <tbody>\n",
       "    <tr>\n",
       "      <th>0</th>\n",
       "      <td> 30</td>\n",
       "      <td> 0</td>\n",
       "      <td> 1</td>\n",
       "      <td> 0</td>\n",
       "      <td> 2</td>\n",
       "      <td> 999</td>\n",
       "      <td> 0</td>\n",
       "      <td>-1.8</td>\n",
       "      <td> 92.893</td>\n",
       "      <td>-46.2</td>\n",
       "      <td>...</td>\n",
       "      <td> 0</td>\n",
       "      <td> 1</td>\n",
       "      <td> 0</td>\n",
       "      <td> 0</td>\n",
       "      <td> 0</td>\n",
       "      <td> 0</td>\n",
       "      <td> 0</td>\n",
       "      <td> 1</td>\n",
       "      <td> 0</td>\n",
       "      <td> 0</td>\n",
       "    </tr>\n",
       "    <tr>\n",
       "      <th>1</th>\n",
       "      <td> 39</td>\n",
       "      <td> 0</td>\n",
       "      <td> 0</td>\n",
       "      <td> 0</td>\n",
       "      <td> 4</td>\n",
       "      <td> 999</td>\n",
       "      <td> 0</td>\n",
       "      <td> 1.1</td>\n",
       "      <td> 93.994</td>\n",
       "      <td>-36.4</td>\n",
       "      <td>...</td>\n",
       "      <td> 0</td>\n",
       "      <td> 1</td>\n",
       "      <td> 0</td>\n",
       "      <td> 0</td>\n",
       "      <td> 0</td>\n",
       "      <td> 0</td>\n",
       "      <td> 0</td>\n",
       "      <td> 1</td>\n",
       "      <td> 0</td>\n",
       "      <td> 0</td>\n",
       "    </tr>\n",
       "    <tr>\n",
       "      <th>2</th>\n",
       "      <td> 25</td>\n",
       "      <td> 0</td>\n",
       "      <td> 1</td>\n",
       "      <td> 0</td>\n",
       "      <td> 1</td>\n",
       "      <td> 999</td>\n",
       "      <td> 0</td>\n",
       "      <td> 1.4</td>\n",
       "      <td> 94.465</td>\n",
       "      <td>-41.8</td>\n",
       "      <td>...</td>\n",
       "      <td> 0</td>\n",
       "      <td> 0</td>\n",
       "      <td> 0</td>\n",
       "      <td> 0</td>\n",
       "      <td> 0</td>\n",
       "      <td> 1</td>\n",
       "      <td> 0</td>\n",
       "      <td> 1</td>\n",
       "      <td> 0</td>\n",
       "      <td> 0</td>\n",
       "    </tr>\n",
       "    <tr>\n",
       "      <th>4</th>\n",
       "      <td> 47</td>\n",
       "      <td> 0</td>\n",
       "      <td> 1</td>\n",
       "      <td> 0</td>\n",
       "      <td> 1</td>\n",
       "      <td> 999</td>\n",
       "      <td> 0</td>\n",
       "      <td>-0.1</td>\n",
       "      <td> 93.200</td>\n",
       "      <td>-42.0</td>\n",
       "      <td>...</td>\n",
       "      <td> 0</td>\n",
       "      <td> 0</td>\n",
       "      <td> 1</td>\n",
       "      <td> 0</td>\n",
       "      <td> 0</td>\n",
       "      <td> 0</td>\n",
       "      <td> 0</td>\n",
       "      <td> 1</td>\n",
       "      <td> 0</td>\n",
       "      <td> 0</td>\n",
       "    </tr>\n",
       "    <tr>\n",
       "      <th>5</th>\n",
       "      <td> 32</td>\n",
       "      <td> 0</td>\n",
       "      <td> 0</td>\n",
       "      <td> 0</td>\n",
       "      <td> 3</td>\n",
       "      <td> 999</td>\n",
       "      <td> 2</td>\n",
       "      <td>-1.1</td>\n",
       "      <td> 94.199</td>\n",
       "      <td>-37.5</td>\n",
       "      <td>...</td>\n",
       "      <td> 1</td>\n",
       "      <td> 0</td>\n",
       "      <td> 0</td>\n",
       "      <td> 1</td>\n",
       "      <td> 0</td>\n",
       "      <td> 0</td>\n",
       "      <td> 1</td>\n",
       "      <td> 0</td>\n",
       "      <td> 0</td>\n",
       "      <td> 0</td>\n",
       "    </tr>\n",
       "  </tbody>\n",
       "</table>\n",
       "<p>5 rows × 46 columns</p>\n",
       "</div>"
      ],
      "text/plain": [
       "   age  default  housing  loan  campaign  pdays  previous  emp.var.rate  \\\n",
       "0   30        0        1     0         2    999         0          -1.8   \n",
       "1   39        0        0     0         4    999         0           1.1   \n",
       "2   25        0        1     0         1    999         0           1.4   \n",
       "4   47        0        1     0         1    999         0          -0.1   \n",
       "5   32        0        0     0         3    999         2          -1.1   \n",
       "\n",
       "   cons.price.idx  cons.conf.idx   ...    month_sep  day_of_week_fri  \\\n",
       "0          92.893          -46.2   ...            0                1   \n",
       "1          93.994          -36.4   ...            0                1   \n",
       "2          94.465          -41.8   ...            0                0   \n",
       "4          93.200          -42.0   ...            0                0   \n",
       "5          94.199          -37.5   ...            1                0   \n",
       "\n",
       "   day_of_week_mon  day_of_week_thu  day_of_week_tue  day_of_week_wed  \\\n",
       "0                0                0                0                0   \n",
       "1                0                0                0                0   \n",
       "2                0                0                0                1   \n",
       "4                1                0                0                0   \n",
       "5                0                1                0                0   \n",
       "\n",
       "   poutcome_failure  poutcome_nonexistent  poutcome_success  output  \n",
       "0                 0                     1                 0       0  \n",
       "1                 0                     1                 0       0  \n",
       "2                 0                     1                 0       0  \n",
       "4                 0                     1                 0       0  \n",
       "5                 1                     0                 0       0  \n",
       "\n",
       "[5 rows x 46 columns]"
      ]
     },
     "execution_count": 87,
     "metadata": {},
     "output_type": "execute_result"
    }
   ],
   "source": [
    "df.head()"
   ]
  },
  {
   "cell_type": "code",
   "execution_count": 88,
   "metadata": {
    "collapsed": false
   },
   "outputs": [
    {
     "data": {
      "text/html": [
       "<div style=\"max-height:1000px;max-width:1500px;overflow:auto;\">\n",
       "<table border=\"1\" class=\"dataframe\">\n",
       "  <thead>\n",
       "    <tr style=\"text-align: right;\">\n",
       "      <th></th>\n",
       "      <th>age</th>\n",
       "      <th>default</th>\n",
       "      <th>housing</th>\n",
       "      <th>loan</th>\n",
       "      <th>campaign</th>\n",
       "      <th>pdays</th>\n",
       "      <th>previous</th>\n",
       "      <th>emp.var.rate</th>\n",
       "      <th>cons.price.idx</th>\n",
       "      <th>cons.conf.idx</th>\n",
       "      <th>...</th>\n",
       "      <th>month_sep</th>\n",
       "      <th>day_of_week_fri</th>\n",
       "      <th>day_of_week_mon</th>\n",
       "      <th>day_of_week_thu</th>\n",
       "      <th>day_of_week_tue</th>\n",
       "      <th>day_of_week_wed</th>\n",
       "      <th>poutcome_failure</th>\n",
       "      <th>poutcome_nonexistent</th>\n",
       "      <th>poutcome_success</th>\n",
       "      <th>output</th>\n",
       "    </tr>\n",
       "  </thead>\n",
       "  <tbody>\n",
       "    <tr>\n",
       "      <th>1424</th>\n",
       "      <td> 30</td>\n",
       "      <td> 0</td>\n",
       "      <td> 1</td>\n",
       "      <td> 0</td>\n",
       "      <td> 2</td>\n",
       "      <td> 999</td>\n",
       "      <td> 0</td>\n",
       "      <td> 1.4</td>\n",
       "      <td> 93.918</td>\n",
       "      <td>-42.7</td>\n",
       "      <td>...</td>\n",
       "      <td> 0</td>\n",
       "      <td> 0</td>\n",
       "      <td> 0</td>\n",
       "      <td> 0</td>\n",
       "      <td> 0</td>\n",
       "      <td> 1</td>\n",
       "      <td> 0</td>\n",
       "      <td> 1</td>\n",
       "      <td> 0</td>\n",
       "      <td> 0</td>\n",
       "    </tr>\n",
       "    <tr>\n",
       "      <th>2857</th>\n",
       "      <td> 27</td>\n",
       "      <td> 0</td>\n",
       "      <td> 1</td>\n",
       "      <td> 0</td>\n",
       "      <td> 1</td>\n",
       "      <td>   3</td>\n",
       "      <td> 1</td>\n",
       "      <td>-1.1</td>\n",
       "      <td> 94.199</td>\n",
       "      <td>-37.5</td>\n",
       "      <td>...</td>\n",
       "      <td> 1</td>\n",
       "      <td> 0</td>\n",
       "      <td> 0</td>\n",
       "      <td> 1</td>\n",
       "      <td> 0</td>\n",
       "      <td> 0</td>\n",
       "      <td> 0</td>\n",
       "      <td> 0</td>\n",
       "      <td> 1</td>\n",
       "      <td> 1</td>\n",
       "    </tr>\n",
       "    <tr>\n",
       "      <th>1807</th>\n",
       "      <td> 57</td>\n",
       "      <td> 0</td>\n",
       "      <td> 1</td>\n",
       "      <td> 0</td>\n",
       "      <td> 1</td>\n",
       "      <td> 999</td>\n",
       "      <td> 0</td>\n",
       "      <td> 1.4</td>\n",
       "      <td> 94.465</td>\n",
       "      <td>-41.8</td>\n",
       "      <td>...</td>\n",
       "      <td> 0</td>\n",
       "      <td> 0</td>\n",
       "      <td> 0</td>\n",
       "      <td> 1</td>\n",
       "      <td> 0</td>\n",
       "      <td> 0</td>\n",
       "      <td> 0</td>\n",
       "      <td> 1</td>\n",
       "      <td> 0</td>\n",
       "      <td> 0</td>\n",
       "    </tr>\n",
       "    <tr>\n",
       "      <th>3891</th>\n",
       "      <td> 31</td>\n",
       "      <td> 0</td>\n",
       "      <td> 0</td>\n",
       "      <td> 0</td>\n",
       "      <td> 1</td>\n",
       "      <td> 999</td>\n",
       "      <td> 0</td>\n",
       "      <td> 1.1</td>\n",
       "      <td> 93.994</td>\n",
       "      <td>-36.4</td>\n",
       "      <td>...</td>\n",
       "      <td> 0</td>\n",
       "      <td> 0</td>\n",
       "      <td> 0</td>\n",
       "      <td> 0</td>\n",
       "      <td> 0</td>\n",
       "      <td> 1</td>\n",
       "      <td> 0</td>\n",
       "      <td> 1</td>\n",
       "      <td> 0</td>\n",
       "      <td> 0</td>\n",
       "    </tr>\n",
       "    <tr>\n",
       "      <th>2721</th>\n",
       "      <td> 50</td>\n",
       "      <td> 0</td>\n",
       "      <td> 1</td>\n",
       "      <td> 0</td>\n",
       "      <td> 1</td>\n",
       "      <td> 999</td>\n",
       "      <td> 0</td>\n",
       "      <td>-0.1</td>\n",
       "      <td> 93.200</td>\n",
       "      <td>-42.0</td>\n",
       "      <td>...</td>\n",
       "      <td> 0</td>\n",
       "      <td> 0</td>\n",
       "      <td> 0</td>\n",
       "      <td> 0</td>\n",
       "      <td> 1</td>\n",
       "      <td> 0</td>\n",
       "      <td> 0</td>\n",
       "      <td> 1</td>\n",
       "      <td> 0</td>\n",
       "      <td> 0</td>\n",
       "    </tr>\n",
       "  </tbody>\n",
       "</table>\n",
       "<p>5 rows × 46 columns</p>\n",
       "</div>"
      ],
      "text/plain": [
       "      age  default  housing  loan  campaign  pdays  previous  emp.var.rate  \\\n",
       "1424   30        0        1     0         2    999         0           1.4   \n",
       "2857   27        0        1     0         1      3         1          -1.1   \n",
       "1807   57        0        1     0         1    999         0           1.4   \n",
       "3891   31        0        0     0         1    999         0           1.1   \n",
       "2721   50        0        1     0         1    999         0          -0.1   \n",
       "\n",
       "      cons.price.idx  cons.conf.idx   ...    month_sep  day_of_week_fri  \\\n",
       "1424          93.918          -42.7   ...            0                0   \n",
       "2857          94.199          -37.5   ...            1                0   \n",
       "1807          94.465          -41.8   ...            0                0   \n",
       "3891          93.994          -36.4   ...            0                0   \n",
       "2721          93.200          -42.0   ...            0                0   \n",
       "\n",
       "      day_of_week_mon  day_of_week_thu  day_of_week_tue  day_of_week_wed  \\\n",
       "1424                0                0                0                1   \n",
       "2857                0                1                0                0   \n",
       "1807                0                1                0                0   \n",
       "3891                0                0                0                1   \n",
       "2721                0                0                1                0   \n",
       "\n",
       "      poutcome_failure  poutcome_nonexistent  poutcome_success  output  \n",
       "1424                 0                     1                 0       0  \n",
       "2857                 0                     0                 1       1  \n",
       "1807                 0                     1                 0       0  \n",
       "3891                 0                     1                 0       0  \n",
       "2721                 0                     1                 0       0  \n",
       "\n",
       "[5 rows x 46 columns]"
      ]
     },
     "execution_count": 88,
     "metadata": {},
     "output_type": "execute_result"
    }
   ],
   "source": [
    "df = df.reindex(np.random.permutation(df.index))\n",
    "df.head()"
   ]
  },
  {
   "cell_type": "code",
   "execution_count": 89,
   "metadata": {
    "collapsed": false
   },
   "outputs": [
    {
     "name": "stdout",
     "output_type": "stream",
     "text": [
      "training set size: 2472\n",
      "test set size: 618\n",
      "training_t set size: 2472\n",
      "test_t set size: 618\n"
     ]
    }
   ],
   "source": [
    "X = df.iloc[:,:45]\n",
    "y = df.iloc[:,45]\n",
    "\n",
    "x_train, x_test, y_train, y_test  = train_test_split(X, y, test_size = 0.2, random_state = 42)\n",
    "\n",
    "\n",
    "\n",
    "std_scale = preprocessing.StandardScaler().fit(x_train)\n",
    "x_train_std = std_scale.transform(x_train)\n",
    "x_test_std = std_scale.transform(x_test)\n",
    "\n",
    "# Scale the X values\n",
    "X_scaled = preprocessing.scale(X.astype(float), copy=False)\n",
    "Y = df.iloc[:,45]\n",
    "\n",
    "print \"training set size: \" + str(len(x_train_std))\n",
    "print \"test set size: \" + str(len(x_test_std))\n",
    "print \"training_t set size: \" + str(len(y_train))\n",
    "print \"test_t set size: \" + str(len(y_test))"
   ]
  },
  {
   "cell_type": "code",
   "execution_count": 90,
   "metadata": {
    "collapsed": false
   },
   "outputs": [],
   "source": [
    "kf = cross_validation.KFold(len(X_scaled), n_folds=10, shuffle=True)"
   ]
  },
  {
   "cell_type": "code",
   "execution_count": 91,
   "metadata": {
    "collapsed": false,
    "scrolled": true
   },
   "outputs": [
    {
     "data": {
      "text/plain": [
       "11"
      ]
     },
     "execution_count": 91,
     "metadata": {},
     "output_type": "execute_result"
    }
   ],
   "source": [
    "#find best number for KNN\n",
    "def best_neighbor(N):\n",
    "    best_k = 1\n",
    "    best_score = 0\n",
    "    for i in range(1,N+1):\n",
    "        neigh = KNeighborsClassifier(n_neighbors=i)\n",
    "        neigh.fit(x_train_std, y_train)\n",
    "        new_score = accuracy_score(y_test,neigh.predict(x_test_std))\n",
    "        if new_score > best_score:\n",
    "            best_score = new_score\n",
    "            best_k = i\n",
    "    \n",
    "    return best_k\n",
    "best_neighbor(30)"
   ]
  },
  {
   "cell_type": "code",
   "execution_count": 92,
   "metadata": {
    "collapsed": false
   },
   "outputs": [
    {
     "name": "stdout",
     "output_type": "stream",
     "text": [
      "              Accuracy  Precision    Recall        F1   ROC_AUC\n",
      "LogisticReg   0.875405   0.520833  0.316456  0.393701  0.636892\n",
      "SVM           0.881877   0.625000  0.189873  0.291262  0.586588\n",
      "GaussNB       0.716828   0.269231  0.708861  0.390244  0.713429\n",
      "DecisionTree  0.877023   0.250000  0.037975  0.244898  0.577640\n",
      "RandomForest  0.880259   0.608696  0.215190  0.290909  0.584733\n",
      "kNN           0.885113   0.653846  0.215190  0.323810  0.599246\n"
     ]
    }
   ],
   "source": [
    "models = [LogisticRegression(penalty='l2',C=0.001), SVC(C=100,gamma=.0001,probability = True), GaussianNB(), DecisionTreeClassifier(max_features='log2',max_depth=3,criterion='entropy'), RandomForestClassifier(n_estimators=30,criterion='entropy'), KNeighborsClassifier(best_neighbor(30))]\n",
    "scores = [accuracy_score, precision_score, recall_score, f1_score, roc_auc_score]\n",
    "\n",
    "# create empty lists\n",
    "LogisticReg = []\n",
    "SVM = []\n",
    "GaussNB = []\n",
    "DecisionTree = []\n",
    "RandomForest = []\n",
    "kNN = []\n",
    "ROC_AUC = []\n",
    "\n",
    "# list of lists\n",
    "lists = [LogisticReg, SVM, GaussNB, DecisionTree, RandomForest, kNN, ROC_AUC]\n",
    "\n",
    "# populate lists with scores of each scoring method\n",
    "for i, model in enumerate(models):\n",
    "    for score in scores:\n",
    "        est = model\n",
    "        est.fit(x_train_std, y_train)\n",
    "        pred = est.predict(x_test_std)\n",
    "        lists[i].append(score(y_test, pred))\n",
    "\n",
    "# create a dataframe which aggregates the lists\n",
    "    scores_df = pd.DataFrame(data = [LogisticReg, SVM, GaussNB, DecisionTree, RandomForest, kNN])\n",
    "    scores_df.index = [\"LogisticReg\", \"SVM\", \"GaussNB\", \"DecisionTree\", \"RandomForest\", \"kNN\"]\n",
    "    scores_df.columns = [\"Accuracy\", \"Precision\", \"Recall\", \"F1\",\"ROC_AUC\"]\n",
    "    \n",
    "print scores_df\n",
    "scores = [accuracy_score, precision_score, recall_score, f1_score, ROC_AUC]\n"
   ]
  },
  {
   "cell_type": "code",
   "execution_count": 93,
   "metadata": {
    "collapsed": true
   },
   "outputs": [],
   "source": [
    "models = {'logistic': LogisticRegression(),\n",
    "          'rf': RandomForestClassifier(n_estimators=200),\n",
    "          'knn': KNeighborsClassifier(n_neighbors=30),\n",
    "          'svc': SVC(probability=True),\n",
    "          'tree': DecisionTreeClassifier(),\n",
    "          #'gbm1': GradientBoostingClassifier(learning_rate=0.4,  n_estimators=200, subsample=1.0, random_state=1, verbose=1),\n",
    "          #'gbm2': GradientBoostingClassifier(learning_rate=0.04, n_estimators=200, subsample=0.9, random_state=1, verbose=1),\n",
    "         }\n",
    "stage_preds = {}\n",
    "final_preds = {}\n"
   ]
  },
  {
   "cell_type": "code",
   "execution_count": 94,
   "metadata": {
    "collapsed": false
   },
   "outputs": [
    {
     "name": "stdout",
     "output_type": "stream",
     "text": [
      "*** knn\n"
     ]
    },
    {
     "ename": "NameError",
     "evalue": "name 'train_std' is not defined",
     "output_type": "error",
     "traceback": [
      "\u001b[0;31m---------------------------------------------------------------------------\u001b[0m",
      "\u001b[0;31mNameError\u001b[0m                                 Traceback (most recent call last)",
      "\u001b[0;32m<ipython-input-94-8e649912af6f>\u001b[0m in \u001b[0;36m<module>\u001b[0;34m()\u001b[0m\n\u001b[1;32m      1\u001b[0m \u001b[0;32mfor\u001b[0m \u001b[0mmname\u001b[0m\u001b[0;34m,\u001b[0m \u001b[0mm\u001b[0m \u001b[0;32min\u001b[0m \u001b[0mmodels\u001b[0m\u001b[0;34m.\u001b[0m\u001b[0miteritems\u001b[0m\u001b[0;34m(\u001b[0m\u001b[0;34m)\u001b[0m\u001b[0;34m:\u001b[0m\u001b[0;34m\u001b[0m\u001b[0m\n\u001b[1;32m      2\u001b[0m     \u001b[0;32mprint\u001b[0m \u001b[0;34m\"*** %s\"\u001b[0m \u001b[0;34m%\u001b[0m \u001b[0mmname\u001b[0m\u001b[0;34m\u001b[0m\u001b[0m\n\u001b[0;32m----> 3\u001b[0;31m     \u001b[0mm\u001b[0m\u001b[0;34m.\u001b[0m\u001b[0mfit\u001b[0m\u001b[0;34m(\u001b[0m\u001b[0mtrain_std\u001b[0m\u001b[0;34m,\u001b[0m \u001b[0mtrain_t\u001b[0m\u001b[0;34m)\u001b[0m\u001b[0;34m\u001b[0m\u001b[0m\n\u001b[0m\u001b[1;32m      4\u001b[0m \u001b[0;34m\u001b[0m\u001b[0m\n\u001b[1;32m      5\u001b[0m \u001b[0;34m\u001b[0m\u001b[0m\n",
      "\u001b[0;31mNameError\u001b[0m: name 'train_std' is not defined"
     ]
    }
   ],
   "source": [
    "for mname, m in models.iteritems():\n",
    "    print \"*** %s\" % mname\n",
    "    m.fit(train_std, train_t)\n",
    " \n",
    "    \n",
    "    if hasattr(m, \"staged_predict_proba\"):\n",
    "        stage_preds[mname] = {'train': list(m.staged_predict_proba(train_std)),  'test': list(m.staged_predict_proba(test_std))}\n",
    "    #if hasattr(m, \"predict_proba\"):\n",
    "    final_preds[mname] = {'train': m.predict_proba(train),  'test': m.predict_proba(test)}"
   ]
  },
  {
   "cell_type": "code",
   "execution_count": null,
   "metadata": {
    "collapsed": false
   },
   "outputs": [],
   "source": [
    "def model_search(estimator, tuned_params, scores, X_train, y_train, X_test, y_test):  \n",
    "    cv = cross_validation.ShuffleSplit(len(X_train), n_iter=3, test_size=0.30, random_state=0)\n",
    "    for score in scores:\n",
    "        print\"# Tuning hyper-parameters for %s\" % score\n",
    "        print\n",
    "\n",
    "        clf = GridSearchCV(estimator, tuned_params, cv=cv,scoring='%s' % score)\n",
    "        clf.fit(X_train, y_train)\n",
    "\n",
    "        print\"Best parameters set found on development set:\"\n",
    "        print\n",
    "        print clf.best_params_\n",
    "        print\n",
    "        print \"Grid scores on development set:\"\n",
    "        print\n",
    "        for params, mean_score, scores in clf.grid_scores_:\n",
    "            print \"%0.3f (+/-%0.03f) for %r\" % (mean_score, scores.std() * 2, params)\n",
    "        print\n",
    "\n",
    "        print \"Detailed classification report:\"\n",
    "        print\n",
    "        print \"The model is trained on the full development set.\"\n",
    "        print \"The scores are computed on the full evaluation set.\"\n",
    "        print\n",
    "        y_true, y_pred = y_test, clf.predict(X_test)\n",
    "        print classification_report(y_true, y_pred)\n",
    "        print"
   ]
  },
  {
   "cell_type": "code",
   "execution_count": null,
   "metadata": {
    "collapsed": false
   },
   "outputs": [],
   "source": [
    "tuned_parameters = [{'kernel': ['rbf'], 'gamma': [1e-3, 1e-4],\n",
    "                     'C': [1, 10, 100, 1000]}]\n",
    "                    #{'kernel': ['linear'], 'C': [1, 10, 100, 1000]}]\n",
    "scores = ['precision', 'recall']\n",
    "model_search(SVC(), tuned_parameters, scores, x_train_std, y_train, x_test_std, y_test)"
   ]
  },
  {
   "cell_type": "code",
   "execution_count": null,
   "metadata": {
    "collapsed": false
   },
   "outputs": [],
   "source": [
    "tuned_parameters = [{'n_estimators': [10,20,30,40,50], 'max_features': ['auto','sqrt','log2'],\n",
    "                     'criterion': ['gini', 'entropy']}]\n",
    "scores = ['precision', 'recall']\n",
    "model_search(RandomForestClassifier(), tuned_parameters, scores, x_train_std, y_train, x_test_std, y_test)"
   ]
  },
  {
   "cell_type": "code",
   "execution_count": null,
   "metadata": {
    "collapsed": false
   },
   "outputs": [],
   "source": [
    "tuned_parameters = [{'penalty': ['l1','l2'], 'C': [0.001,0.01,1.0,10,100,1000]}]\n",
    "scores = ['precision', 'recall']\n",
    "model_search(LogisticRegression(), tuned_parameters, scores, x_train_std, y_train, x_test_std, y_test)"
   ]
  },
  {
   "cell_type": "code",
   "execution_count": null,
   "metadata": {
    "collapsed": false
   },
   "outputs": [],
   "source": [
    "tuned_parameters = [{'criterion': ['gini', 'entropy'],'max_depth': [3,4,5,6,7], 'max_features': ['auto','log2']}]\n",
    "scores = ['precision', 'recall']\n",
    "model_search(DecisionTreeClassifier(), tuned_parameters, scores, x_train_std, y_train, x_test_std, y_test)"
   ]
  },
  {
   "cell_type": "code",
   "execution_count": 95,
   "metadata": {
    "collapsed": false
   },
   "outputs": [
    {
     "data": {
      "text/plain": [
       "array([  1.16478745e-01,   9.75632859e-05,   3.92699523e-02,\n",
       "         2.36682161e-02,   7.73930535e-02,   3.42172182e-02,\n",
       "         2.12343219e-02,   4.53909754e-02,   1.60276181e-02,\n",
       "         2.39171768e-02,   9.86863477e-02,   6.73824278e-02,\n",
       "         1.27716762e-02,   1.19737273e-02,   2.43646079e-02,\n",
       "         1.23682852e-02,   7.79424596e-03,   5.33385439e-03,\n",
       "         1.24094786e-02,   1.37798785e-02,   2.41323362e-02,\n",
       "         2.19709634e-02,   2.01355989e-02,   1.98991812e-02,\n",
       "         2.06785571e-02,   1.11492764e-02,   8.61876783e-03,\n",
       "         4.46245805e-03,   5.25975234e-03,   3.06256701e-03,\n",
       "         7.22579682e-03,   5.54524074e-03,   1.03339997e-02,\n",
       "         1.00349720e-02,   6.32406575e-03,   8.42426175e-03,\n",
       "         4.29539199e-03,   2.10968270e-02,   1.98241941e-02,\n",
       "         1.86560507e-02,   1.95733004e-02,   1.94812761e-02,\n",
       "         1.30892799e-02,   9.39970138e-03,   2.27668132e-02])"
      ]
     },
     "execution_count": 95,
     "metadata": {},
     "output_type": "execute_result"
    }
   ],
   "source": [
    "from sklearn.ensemble import ExtraTreesClassifier\n",
    "clf = ExtraTreesClassifier()\n",
    "X_new = clf.fit(x_train_std, y_train).transform(x_train_std)\n",
    "clf.feature_importances_  \n",
    "# X_new.shape               "
   ]
  },
  {
   "cell_type": "code",
   "execution_count": 96,
   "metadata": {
    "collapsed": false
   },
   "outputs": [
    {
     "data": {
      "text/plain": [
       "age                                int64\n",
       "default                          float64\n",
       "housing                          float64\n",
       "loan                             float64\n",
       "campaign                           int64\n",
       "pdays                              int64\n",
       "previous                           int64\n",
       "emp.var.rate                     float64\n",
       "cons.price.idx                   float64\n",
       "cons.conf.idx                    float64\n",
       "euribor3m                        float64\n",
       "nr.employed                      float64\n",
       "job_blue-collar                  float64\n",
       "job_management                   float64\n",
       "job_professional                 float64\n",
       "job_retired                      float64\n",
       "job_self-employed                float64\n",
       "job_student                      float64\n",
       "job_unemployed                   float64\n",
       "marital_divorced                 float64\n",
       "marital_married                  float64\n",
       "marital_single                   float64\n",
       "education_professional.course    float64\n",
       "education_some                   float64\n",
       "education_university.degree      float64\n",
       "contact_cellular                 float64\n",
       "contact_telephone                float64\n",
       "month_apr                        float64\n",
       "month_aug                        float64\n",
       "month_dec                        float64\n",
       "month_jul                        float64\n",
       "month_jun                        float64\n",
       "month_mar                        float64\n",
       "month_may                        float64\n",
       "month_nov                        float64\n",
       "month_oct                        float64\n",
       "month_sep                        float64\n",
       "day_of_week_fri                  float64\n",
       "day_of_week_mon                  float64\n",
       "day_of_week_thu                  float64\n",
       "day_of_week_tue                  float64\n",
       "day_of_week_wed                  float64\n",
       "poutcome_failure                 float64\n",
       "poutcome_nonexistent             float64\n",
       "poutcome_success                 float64\n",
       "output                             int64\n",
       "dtype: object"
      ]
     },
     "execution_count": 96,
     "metadata": {},
     "output_type": "execute_result"
    }
   ],
   "source": [
    "df.dtypes"
   ]
  },
  {
   "cell_type": "code",
   "execution_count": null,
   "metadata": {
    "collapsed": true
   },
   "outputs": [],
   "source": []
  }
 ],
 "metadata": {
  "kernelspec": {
   "display_name": "Python 2",
   "language": "python",
   "name": "python2"
  },
  "language_info": {
   "codemirror_mode": {
    "name": "ipython",
    "version": 2
   },
   "file_extension": ".py",
   "mimetype": "text/x-python",
   "name": "python",
   "nbconvert_exporter": "python",
   "pygments_lexer": "ipython2",
   "version": "2.7.9"
  }
 },
 "nbformat": 4,
 "nbformat_minor": 0
}
