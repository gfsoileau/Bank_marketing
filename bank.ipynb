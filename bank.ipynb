{
 "cells": [
  {
   "cell_type": "code",
   "execution_count": 1,
   "metadata": {
    "collapsed": false
   },
   "outputs": [],
   "source": [
    "%matplotlib inline\n",
    "\n",
    "\n",
    "from sklearn.ensemble import GradientBoostingClassifier, RandomForestClassifier\n",
    "from sklearn.linear_model import LogisticRegression\n",
    "from sklearn.neighbors import KNeighborsClassifier\n",
    "from sklearn.svm import SVC\n",
    "from sklearn.tree import DecisionTreeClassifier\n",
    "from sklearn.naive_bayes import GaussianNB\n",
    "from sklearn.grid_search import GridSearchCV\n",
    "from sklearn.ensemble import ExtraTreesClassifier\n",
    "from sklearn.cross_validation import cross_val_score, KFold\n",
    "\n",
    "from sklearn.datasets import make_classification\n",
    "from sklearn.cross_validation import train_test_split\n",
    "from sklearn.metrics import roc_auc_score\n",
    "from sklearn import preprocessing\n",
    "from sklearn import cross_validation\n",
    "from sklearn.cross_validation import cross_val_score, KFold\n",
    "from sklearn.metrics import classification_report, precision_score, recall_score, f1_score, accuracy_score\n",
    "\n",
    "import pandas as pd\n",
    "import numpy as np\n",
    "import matplotlib.pyplot as plt\n",
    "\n",
    "import seaborn as sns"
   ]
  },
  {
   "cell_type": "code",
   "execution_count": 88,
   "metadata": {
    "collapsed": false
   },
   "outputs": [
    {
     "data": {
      "text/html": [
       "<div style=\"max-height:1000px;max-width:1500px;overflow:auto;\">\n",
       "<table border=\"1\" class=\"dataframe\">\n",
       "  <thead>\n",
       "    <tr style=\"text-align: right;\">\n",
       "      <th></th>\n",
       "      <th>age</th>\n",
       "      <th>job</th>\n",
       "      <th>marital</th>\n",
       "      <th>education</th>\n",
       "      <th>default</th>\n",
       "      <th>housing</th>\n",
       "      <th>loan</th>\n",
       "      <th>contact</th>\n",
       "      <th>month</th>\n",
       "      <th>day_of_week</th>\n",
       "      <th>...</th>\n",
       "      <th>campaign</th>\n",
       "      <th>pdays</th>\n",
       "      <th>previous</th>\n",
       "      <th>poutcome</th>\n",
       "      <th>emp.var.rate</th>\n",
       "      <th>cons.price.idx</th>\n",
       "      <th>cons.conf.idx</th>\n",
       "      <th>euribor3m</th>\n",
       "      <th>nr.employed</th>\n",
       "      <th>y</th>\n",
       "    </tr>\n",
       "  </thead>\n",
       "  <tbody>\n",
       "    <tr>\n",
       "      <th>0</th>\n",
       "      <td> 56</td>\n",
       "      <td> housemaid</td>\n",
       "      <td> married</td>\n",
       "      <td>    basic.4y</td>\n",
       "      <td>      no</td>\n",
       "      <td>  no</td>\n",
       "      <td>  no</td>\n",
       "      <td> telephone</td>\n",
       "      <td> may</td>\n",
       "      <td> mon</td>\n",
       "      <td>...</td>\n",
       "      <td> 1</td>\n",
       "      <td> 999</td>\n",
       "      <td> 0</td>\n",
       "      <td> nonexistent</td>\n",
       "      <td> 1.1</td>\n",
       "      <td> 93.994</td>\n",
       "      <td>-36.4</td>\n",
       "      <td> 4.857</td>\n",
       "      <td> 5191</td>\n",
       "      <td> no</td>\n",
       "    </tr>\n",
       "    <tr>\n",
       "      <th>1</th>\n",
       "      <td> 57</td>\n",
       "      <td>  services</td>\n",
       "      <td> married</td>\n",
       "      <td> high.school</td>\n",
       "      <td> unknown</td>\n",
       "      <td>  no</td>\n",
       "      <td>  no</td>\n",
       "      <td> telephone</td>\n",
       "      <td> may</td>\n",
       "      <td> mon</td>\n",
       "      <td>...</td>\n",
       "      <td> 1</td>\n",
       "      <td> 999</td>\n",
       "      <td> 0</td>\n",
       "      <td> nonexistent</td>\n",
       "      <td> 1.1</td>\n",
       "      <td> 93.994</td>\n",
       "      <td>-36.4</td>\n",
       "      <td> 4.857</td>\n",
       "      <td> 5191</td>\n",
       "      <td> no</td>\n",
       "    </tr>\n",
       "    <tr>\n",
       "      <th>2</th>\n",
       "      <td> 37</td>\n",
       "      <td>  services</td>\n",
       "      <td> married</td>\n",
       "      <td> high.school</td>\n",
       "      <td>      no</td>\n",
       "      <td> yes</td>\n",
       "      <td>  no</td>\n",
       "      <td> telephone</td>\n",
       "      <td> may</td>\n",
       "      <td> mon</td>\n",
       "      <td>...</td>\n",
       "      <td> 1</td>\n",
       "      <td> 999</td>\n",
       "      <td> 0</td>\n",
       "      <td> nonexistent</td>\n",
       "      <td> 1.1</td>\n",
       "      <td> 93.994</td>\n",
       "      <td>-36.4</td>\n",
       "      <td> 4.857</td>\n",
       "      <td> 5191</td>\n",
       "      <td> no</td>\n",
       "    </tr>\n",
       "    <tr>\n",
       "      <th>3</th>\n",
       "      <td> 40</td>\n",
       "      <td>    admin.</td>\n",
       "      <td> married</td>\n",
       "      <td>    basic.6y</td>\n",
       "      <td>      no</td>\n",
       "      <td>  no</td>\n",
       "      <td>  no</td>\n",
       "      <td> telephone</td>\n",
       "      <td> may</td>\n",
       "      <td> mon</td>\n",
       "      <td>...</td>\n",
       "      <td> 1</td>\n",
       "      <td> 999</td>\n",
       "      <td> 0</td>\n",
       "      <td> nonexistent</td>\n",
       "      <td> 1.1</td>\n",
       "      <td> 93.994</td>\n",
       "      <td>-36.4</td>\n",
       "      <td> 4.857</td>\n",
       "      <td> 5191</td>\n",
       "      <td> no</td>\n",
       "    </tr>\n",
       "    <tr>\n",
       "      <th>4</th>\n",
       "      <td> 56</td>\n",
       "      <td>  services</td>\n",
       "      <td> married</td>\n",
       "      <td> high.school</td>\n",
       "      <td>      no</td>\n",
       "      <td>  no</td>\n",
       "      <td> yes</td>\n",
       "      <td> telephone</td>\n",
       "      <td> may</td>\n",
       "      <td> mon</td>\n",
       "      <td>...</td>\n",
       "      <td> 1</td>\n",
       "      <td> 999</td>\n",
       "      <td> 0</td>\n",
       "      <td> nonexistent</td>\n",
       "      <td> 1.1</td>\n",
       "      <td> 93.994</td>\n",
       "      <td>-36.4</td>\n",
       "      <td> 4.857</td>\n",
       "      <td> 5191</td>\n",
       "      <td> no</td>\n",
       "    </tr>\n",
       "  </tbody>\n",
       "</table>\n",
       "<p>5 rows × 21 columns</p>\n",
       "</div>"
      ],
      "text/plain": [
       "   age        job  marital    education  default housing loan    contact  \\\n",
       "0   56  housemaid  married     basic.4y       no      no   no  telephone   \n",
       "1   57   services  married  high.school  unknown      no   no  telephone   \n",
       "2   37   services  married  high.school       no     yes   no  telephone   \n",
       "3   40     admin.  married     basic.6y       no      no   no  telephone   \n",
       "4   56   services  married  high.school       no      no  yes  telephone   \n",
       "\n",
       "  month day_of_week ...  campaign  pdays  previous     poutcome emp.var.rate  \\\n",
       "0   may         mon ...         1    999         0  nonexistent          1.1   \n",
       "1   may         mon ...         1    999         0  nonexistent          1.1   \n",
       "2   may         mon ...         1    999         0  nonexistent          1.1   \n",
       "3   may         mon ...         1    999         0  nonexistent          1.1   \n",
       "4   may         mon ...         1    999         0  nonexistent          1.1   \n",
       "\n",
       "   cons.price.idx  cons.conf.idx  euribor3m  nr.employed   y  \n",
       "0          93.994          -36.4      4.857         5191  no  \n",
       "1          93.994          -36.4      4.857         5191  no  \n",
       "2          93.994          -36.4      4.857         5191  no  \n",
       "3          93.994          -36.4      4.857         5191  no  \n",
       "4          93.994          -36.4      4.857         5191  no  \n",
       "\n",
       "[5 rows x 21 columns]"
      ]
     },
     "execution_count": 88,
     "metadata": {},
     "output_type": "execute_result"
    }
   ],
   "source": [
    "df = pd.read_csv('bank-additional-full.csv')\n",
    "df.head(5)\n"
   ]
  },
  {
   "cell_type": "code",
   "execution_count": 89,
   "metadata": {
    "collapsed": false
   },
   "outputs": [],
   "source": [
    "#Output value must be numerical, so I replaced categorical 'yes'/'no' with 1/0\n",
    "df.replace(['yes','no', 'unknown'],[1,0, np.nan], inplace=True)\n",
    "df = df.dropna()"
   ]
  },
  {
   "cell_type": "code",
   "execution_count": 90,
   "metadata": {
    "collapsed": false
   },
   "outputs": [],
   "source": [
    "def ed_preproc(ed):\n",
    "    ed_new = []\n",
    "    for e in ed:\n",
    "        if e == 'basic.4y' or e == 'basic.6y' or e == 'basic.9y' or e == 'illiterate' or e == 'high.school':\n",
    "            e = 'some'\n",
    "            ed_new.append(e)\n",
    "        else:\n",
    "            ed_new.append(e)\n",
    "    return ed_new\n",
    "df.education = ed_preproc(df.education)"
   ]
  },
  {
   "cell_type": "code",
   "execution_count": 91,
   "metadata": {
    "collapsed": false
   },
   "outputs": [],
   "source": [
    "def job_proc(job):\n",
    "    job_new = []\n",
    "    for j in job:\n",
    "        if j == 'entrepreneur':\n",
    "            j = 'self-employed'\n",
    "            job_new.append(j)\n",
    "        elif j == 'admin.' or j == 'services' or j == 'technician':\n",
    "            j = 'professional'\n",
    "            job_new.append(j)\n",
    "        elif j == 'housemaid':\n",
    "            j = 'unemployed'\n",
    "            job_new.append(j)\n",
    "        else:\n",
    "            job_new.append(j)\n",
    "    return job_new\n",
    "df.job = job_proc(df.job)"
   ]
  },
  {
   "cell_type": "code",
   "execution_count": 92,
   "metadata": {
    "collapsed": false
   },
   "outputs": [
    {
     "data": {
      "text/html": [
       "<div style=\"max-height:1000px;max-width:1500px;overflow:auto;\">\n",
       "<table border=\"1\" class=\"dataframe\">\n",
       "  <thead>\n",
       "    <tr style=\"text-align: right;\">\n",
       "      <th></th>\n",
       "      <th>age</th>\n",
       "      <th>job</th>\n",
       "      <th>marital</th>\n",
       "      <th>education</th>\n",
       "      <th>default</th>\n",
       "      <th>housing</th>\n",
       "      <th>loan</th>\n",
       "      <th>contact</th>\n",
       "      <th>month</th>\n",
       "      <th>day_of_week</th>\n",
       "      <th>...</th>\n",
       "      <th>campaign</th>\n",
       "      <th>pdays</th>\n",
       "      <th>previous</th>\n",
       "      <th>poutcome</th>\n",
       "      <th>emp.var.rate</th>\n",
       "      <th>cons.price.idx</th>\n",
       "      <th>cons.conf.idx</th>\n",
       "      <th>euribor3m</th>\n",
       "      <th>nr.employed</th>\n",
       "      <th>y</th>\n",
       "    </tr>\n",
       "  </thead>\n",
       "  <tbody>\n",
       "    <tr>\n",
       "      <th>0</th>\n",
       "      <td> 56</td>\n",
       "      <td>   unemployed</td>\n",
       "      <td> married</td>\n",
       "      <td> some</td>\n",
       "      <td> 0</td>\n",
       "      <td> 0</td>\n",
       "      <td> 0</td>\n",
       "      <td> telephone</td>\n",
       "      <td> may</td>\n",
       "      <td> mon</td>\n",
       "      <td>...</td>\n",
       "      <td> 1</td>\n",
       "      <td> 999</td>\n",
       "      <td> 0</td>\n",
       "      <td> nonexistent</td>\n",
       "      <td> 1.1</td>\n",
       "      <td> 93.994</td>\n",
       "      <td>-36.4</td>\n",
       "      <td> 4.857</td>\n",
       "      <td> 5191</td>\n",
       "      <td> 0</td>\n",
       "    </tr>\n",
       "    <tr>\n",
       "      <th>2</th>\n",
       "      <td> 37</td>\n",
       "      <td> professional</td>\n",
       "      <td> married</td>\n",
       "      <td> some</td>\n",
       "      <td> 0</td>\n",
       "      <td> 1</td>\n",
       "      <td> 0</td>\n",
       "      <td> telephone</td>\n",
       "      <td> may</td>\n",
       "      <td> mon</td>\n",
       "      <td>...</td>\n",
       "      <td> 1</td>\n",
       "      <td> 999</td>\n",
       "      <td> 0</td>\n",
       "      <td> nonexistent</td>\n",
       "      <td> 1.1</td>\n",
       "      <td> 93.994</td>\n",
       "      <td>-36.4</td>\n",
       "      <td> 4.857</td>\n",
       "      <td> 5191</td>\n",
       "      <td> 0</td>\n",
       "    </tr>\n",
       "    <tr>\n",
       "      <th>3</th>\n",
       "      <td> 40</td>\n",
       "      <td> professional</td>\n",
       "      <td> married</td>\n",
       "      <td> some</td>\n",
       "      <td> 0</td>\n",
       "      <td> 0</td>\n",
       "      <td> 0</td>\n",
       "      <td> telephone</td>\n",
       "      <td> may</td>\n",
       "      <td> mon</td>\n",
       "      <td>...</td>\n",
       "      <td> 1</td>\n",
       "      <td> 999</td>\n",
       "      <td> 0</td>\n",
       "      <td> nonexistent</td>\n",
       "      <td> 1.1</td>\n",
       "      <td> 93.994</td>\n",
       "      <td>-36.4</td>\n",
       "      <td> 4.857</td>\n",
       "      <td> 5191</td>\n",
       "      <td> 0</td>\n",
       "    </tr>\n",
       "  </tbody>\n",
       "</table>\n",
       "<p>3 rows × 21 columns</p>\n",
       "</div>"
      ],
      "text/plain": [
       "   age           job  marital education  default  housing  loan    contact  \\\n",
       "0   56    unemployed  married      some        0        0     0  telephone   \n",
       "2   37  professional  married      some        0        1     0  telephone   \n",
       "3   40  professional  married      some        0        0     0  telephone   \n",
       "\n",
       "  month day_of_week ...  campaign  pdays  previous     poutcome emp.var.rate  \\\n",
       "0   may         mon ...         1    999         0  nonexistent          1.1   \n",
       "2   may         mon ...         1    999         0  nonexistent          1.1   \n",
       "3   may         mon ...         1    999         0  nonexistent          1.1   \n",
       "\n",
       "   cons.price.idx  cons.conf.idx  euribor3m  nr.employed  y  \n",
       "0          93.994          -36.4      4.857         5191  0  \n",
       "2          93.994          -36.4      4.857         5191  0  \n",
       "3          93.994          -36.4      4.857         5191  0  \n",
       "\n",
       "[3 rows x 21 columns]"
      ]
     },
     "execution_count": 92,
     "metadata": {},
     "output_type": "execute_result"
    }
   ],
   "source": [
    "df.head(3)"
   ]
  },
  {
   "cell_type": "code",
   "execution_count": 93,
   "metadata": {
    "collapsed": false
   },
   "outputs": [],
   "source": [
    "#convert categorical data to numeric dummy variables\n",
    "#Important note: this attribute highly affects the output target (e.g., if duration=0 \n",
    "#then y='no'). Yet, the duration is not known before a call is performed. \n",
    "df = pd.get_dummies(df)\n",
    "df['output'] = df.y\n",
    "del df['duration']\n",
    "del df['y']"
   ]
  },
  {
   "cell_type": "code",
   "execution_count": 94,
   "metadata": {
    "collapsed": false
   },
   "outputs": [
    {
     "data": {
      "text/html": [
       "<div style=\"max-height:1000px;max-width:1500px;overflow:auto;\">\n",
       "<table border=\"1\" class=\"dataframe\">\n",
       "  <thead>\n",
       "    <tr style=\"text-align: right;\">\n",
       "      <th></th>\n",
       "      <th>age</th>\n",
       "      <th>default</th>\n",
       "      <th>housing</th>\n",
       "      <th>loan</th>\n",
       "      <th>campaign</th>\n",
       "      <th>pdays</th>\n",
       "      <th>previous</th>\n",
       "      <th>emp.var.rate</th>\n",
       "      <th>cons.price.idx</th>\n",
       "      <th>cons.conf.idx</th>\n",
       "      <th>...</th>\n",
       "      <th>month_sep</th>\n",
       "      <th>day_of_week_fri</th>\n",
       "      <th>day_of_week_mon</th>\n",
       "      <th>day_of_week_thu</th>\n",
       "      <th>day_of_week_tue</th>\n",
       "      <th>day_of_week_wed</th>\n",
       "      <th>poutcome_failure</th>\n",
       "      <th>poutcome_nonexistent</th>\n",
       "      <th>poutcome_success</th>\n",
       "      <th>output</th>\n",
       "    </tr>\n",
       "  </thead>\n",
       "  <tbody>\n",
       "    <tr>\n",
       "      <th>0</th>\n",
       "      <td> 56</td>\n",
       "      <td> 0</td>\n",
       "      <td> 0</td>\n",
       "      <td> 0</td>\n",
       "      <td> 1</td>\n",
       "      <td> 999</td>\n",
       "      <td> 0</td>\n",
       "      <td> 1.1</td>\n",
       "      <td> 93.994</td>\n",
       "      <td>-36.4</td>\n",
       "      <td>...</td>\n",
       "      <td> 0</td>\n",
       "      <td> 0</td>\n",
       "      <td> 1</td>\n",
       "      <td> 0</td>\n",
       "      <td> 0</td>\n",
       "      <td> 0</td>\n",
       "      <td> 0</td>\n",
       "      <td> 1</td>\n",
       "      <td> 0</td>\n",
       "      <td> 0</td>\n",
       "    </tr>\n",
       "    <tr>\n",
       "      <th>2</th>\n",
       "      <td> 37</td>\n",
       "      <td> 0</td>\n",
       "      <td> 1</td>\n",
       "      <td> 0</td>\n",
       "      <td> 1</td>\n",
       "      <td> 999</td>\n",
       "      <td> 0</td>\n",
       "      <td> 1.1</td>\n",
       "      <td> 93.994</td>\n",
       "      <td>-36.4</td>\n",
       "      <td>...</td>\n",
       "      <td> 0</td>\n",
       "      <td> 0</td>\n",
       "      <td> 1</td>\n",
       "      <td> 0</td>\n",
       "      <td> 0</td>\n",
       "      <td> 0</td>\n",
       "      <td> 0</td>\n",
       "      <td> 1</td>\n",
       "      <td> 0</td>\n",
       "      <td> 0</td>\n",
       "    </tr>\n",
       "    <tr>\n",
       "      <th>3</th>\n",
       "      <td> 40</td>\n",
       "      <td> 0</td>\n",
       "      <td> 0</td>\n",
       "      <td> 0</td>\n",
       "      <td> 1</td>\n",
       "      <td> 999</td>\n",
       "      <td> 0</td>\n",
       "      <td> 1.1</td>\n",
       "      <td> 93.994</td>\n",
       "      <td>-36.4</td>\n",
       "      <td>...</td>\n",
       "      <td> 0</td>\n",
       "      <td> 0</td>\n",
       "      <td> 1</td>\n",
       "      <td> 0</td>\n",
       "      <td> 0</td>\n",
       "      <td> 0</td>\n",
       "      <td> 0</td>\n",
       "      <td> 1</td>\n",
       "      <td> 0</td>\n",
       "      <td> 0</td>\n",
       "    </tr>\n",
       "  </tbody>\n",
       "</table>\n",
       "<p>3 rows × 46 columns</p>\n",
       "</div>"
      ],
      "text/plain": [
       "   age  default  housing  loan  campaign  pdays  previous  emp.var.rate  \\\n",
       "0   56        0        0     0         1    999         0           1.1   \n",
       "2   37        0        1     0         1    999         0           1.1   \n",
       "3   40        0        0     0         1    999         0           1.1   \n",
       "\n",
       "   cons.price.idx  cons.conf.idx   ...    month_sep  day_of_week_fri  \\\n",
       "0          93.994          -36.4   ...            0                0   \n",
       "2          93.994          -36.4   ...            0                0   \n",
       "3          93.994          -36.4   ...            0                0   \n",
       "\n",
       "   day_of_week_mon  day_of_week_thu  day_of_week_tue  day_of_week_wed  \\\n",
       "0                1                0                0                0   \n",
       "2                1                0                0                0   \n",
       "3                1                0                0                0   \n",
       "\n",
       "   poutcome_failure  poutcome_nonexistent  poutcome_success  output  \n",
       "0                 0                     1                 0       0  \n",
       "2                 0                     1                 0       0  \n",
       "3                 0                     1                 0       0  \n",
       "\n",
       "[3 rows x 46 columns]"
      ]
     },
     "execution_count": 94,
     "metadata": {},
     "output_type": "execute_result"
    }
   ],
   "source": [
    "df.head(3)\n"
   ]
  },
  {
   "cell_type": "code",
   "execution_count": 29,
   "metadata": {
    "collapsed": true
   },
   "outputs": [],
   "source": [
    "def to_df(x):\n",
    "    x = pd.DataFrame(x)\n",
    "    return x"
   ]
  },
  {
   "cell_type": "code",
   "execution_count": 102,
   "metadata": {
    "collapsed": false
   },
   "outputs": [
    {
     "name": "stdout",
     "output_type": "stream",
     "text": [
      "training set size: 22866\n",
      "test set size: 7622\n",
      "training_t set size: 22866\n",
      "test_t set size: 7622\n"
     ]
    }
   ],
   "source": [
    "X = df.iloc[:,:45]\n",
    "X_scaled = preprocessing.scale(X.astype(float), copy=False)\n",
    "y = df.iloc[:,45]\n",
    "x_train, x_test, y_train, y_test  = train_test_split(X, y, test_size = 0.25, random_state = 42)\n",
    "\n",
    "# std_scale = preprocessing.StandardScaler().fit(x_train)\n",
    "# x_train_std = std_scale.transform(x_train)\n",
    "# x_test_std = std_scale.transform(x_test)\n",
    "\n",
    "\n",
    "print \"training set size: \" + str(len(x_train_std))\n",
    "print \"test set size: \" + str(len(x_test_std))\n",
    "print \"training_t set size: \" + str(len(y_train))\n",
    "print \"test_t set size: \" + str(len(y_test))"
   ]
  },
  {
   "cell_type": "code",
   "execution_count": 32,
   "metadata": {
    "collapsed": false
   },
   "outputs": [],
   "source": [
    "X = to_df(X)\n",
    "x_train = to_df(x_train)\n",
    "x_test = to_df(y_train)\n",
    "x_test = to_df(x_test)\n",
    "x_train_std = to_df(x_train_std)\n",
    "x_test_std = to_df(x_test_std)"
   ]
  },
  {
   "cell_type": "code",
   "execution_count": 33,
   "metadata": {
    "collapsed": false
   },
   "outputs": [
    {
     "data": {
      "text/plain": [
       "pandas.core.frame.DataFrame"
      ]
     },
     "execution_count": 33,
     "metadata": {},
     "output_type": "execute_result"
    }
   ],
   "source": [
    "type(x_train)\n",
    "#x_train_std.head(5)"
   ]
  },
  {
   "cell_type": "code",
   "execution_count": 50,
   "metadata": {
    "collapsed": false,
    "scrolled": true
   },
   "outputs": [
    {
     "data": {
      "text/plain": [
       "30"
      ]
     },
     "execution_count": 50,
     "metadata": {},
     "output_type": "execute_result"
    }
   ],
   "source": [
    "#find best number for KNN\n",
    "def best_neighbor(N):\n",
    "    best_k = 1\n",
    "    best_score = 0\n",
    "    for i in range(1,N+1):\n",
    "        neigh = KNeighborsClassifier(n_neighbors=i)\n",
    "        neigh.fit(x_train_std, y_train)\n",
    "        new_score = accuracy_score(y_test,neigh.predict(x_test_std))\n",
    "        if new_score > best_score:\n",
    "            best_score = new_score\n",
    "            best_k = i\n",
    "    \n",
    "    return best_k\n",
    "best_neighbor(30)"
   ]
  },
  {
   "cell_type": "code",
   "execution_count": 9,
   "metadata": {
    "collapsed": true
   },
   "outputs": [],
   "source": [
    "def model_search(estimator, tuned_params, scores, X_train, y_train, X_test, y_test):  \n",
    "    cv = cross_validation.ShuffleSplit(len(X__scaled), n_iter=3, test_size=0.30, random_state=0)\n",
    "    #kf = cross_validation.KFold(len(X_values_scaled), n_folds=10, shuffle=True)\n",
    "    for score in scores:\n",
    "        print\"# Tuning hyper-parameters for %s\" % score\n",
    "        clf = GridSearchCV(estimator, tuned_params, cv=cv,scoring='%s' % score)\n",
    "        clf.fit(X_train, y_train)\n",
    "        print\"Best parameters set found on development set:\"\n",
    "        print clf.best_params_\n",
    "        print \"Grid scores on development set:\"\n",
    "        for params, mean_score, scores in clf.grid_scores_:\n",
    "            print \"%0.3f (+/-%0.03f) for %r\" % (mean_score, scores.std() * 2, params)\n",
    "        print \"Detailed classification report:\"\n",
    "        print \"The model is trained on the full development set.\"\n",
    "        print \"The scores are computed on the full evaluation set.\"\n",
    "\n",
    "        y_true, y_pred = y_test, clf.predict(X_test)\n",
    "        print classification_report(y_true, y_pred)\n"
   ]
  },
  {
   "cell_type": "code",
   "execution_count": null,
   "metadata": {
    "collapsed": false
   },
   "outputs": [],
   "source": [
    "tuned_parameters = [{'kernel': ['rbf'], 'gamma': [1e-3, 1e-4],\n",
    "                     'C': [1, 10, 100, 1000]}]\n",
    "                    #{'kernel': ['linear'], 'C': [1, 10, 100, 1000]}]\n",
    "scores = ['precision', 'recall']\n",
    "model_search(SVC(), tuned_parameters, scores, x_train_std, y_train, x_test_std, y_test)"
   ]
  },
  {
   "cell_type": "code",
   "execution_count": 10,
   "metadata": {
    "collapsed": false
   },
   "outputs": [
    {
     "name": "stdout",
     "output_type": "stream",
     "text": [
      "# Tuning hyper-parameters for precision\n",
      "Best parameters set found on development set:\n",
      "{'max_features': 'auto', 'n_estimators': 50, 'criterion': 'entropy'}\n",
      "Grid scores on development set:\n",
      "0.513 (+/-0.038) for {'max_features': 'auto', 'n_estimators': 10, 'criterion': 'gini'}\n",
      "0.536 (+/-0.016) for {'max_features': 'auto', 'n_estimators': 20, 'criterion': 'gini'}\n",
      "0.524 (+/-0.020) for {'max_features': 'auto', 'n_estimators': 30, 'criterion': 'gini'}\n",
      "0.530 (+/-0.011) for {'max_features': 'auto', 'n_estimators': 40, 'criterion': 'gini'}\n",
      "0.526 (+/-0.019) for {'max_features': 'auto', 'n_estimators': 50, 'criterion': 'gini'}\n",
      "0.512 (+/-0.022) for {'max_features': 'sqrt', 'n_estimators': 10, 'criterion': 'gini'}\n",
      "0.518 (+/-0.024) for {'max_features': 'sqrt', 'n_estimators': 20, 'criterion': 'gini'}\n",
      "0.528 (+/-0.015) for {'max_features': 'sqrt', 'n_estimators': 30, 'criterion': 'gini'}\n",
      "0.536 (+/-0.013) for {'max_features': 'sqrt', 'n_estimators': 40, 'criterion': 'gini'}\n",
      "0.525 (+/-0.004) for {'max_features': 'sqrt', 'n_estimators': 50, 'criterion': 'gini'}\n",
      "0.523 (+/-0.029) for {'max_features': 'log2', 'n_estimators': 10, 'criterion': 'gini'}\n",
      "0.524 (+/-0.021) for {'max_features': 'log2', 'n_estimators': 20, 'criterion': 'gini'}\n",
      "0.526 (+/-0.008) for {'max_features': 'log2', 'n_estimators': 30, 'criterion': 'gini'}\n",
      "0.528 (+/-0.012) for {'max_features': 'log2', 'n_estimators': 40, 'criterion': 'gini'}\n",
      "0.527 (+/-0.022) for {'max_features': 'log2', 'n_estimators': 50, 'criterion': 'gini'}\n",
      "0.519 (+/-0.035) for {'max_features': 'auto', 'n_estimators': 10, 'criterion': 'entropy'}\n",
      "0.526 (+/-0.013) for {'max_features': 'auto', 'n_estimators': 20, 'criterion': 'entropy'}\n",
      "0.526 (+/-0.013) for {'max_features': 'auto', 'n_estimators': 30, 'criterion': 'entropy'}\n",
      "0.527 (+/-0.015) for {'max_features': 'auto', 'n_estimators': 40, 'criterion': 'entropy'}\n",
      "0.543 (+/-0.020) for {'max_features': 'auto', 'n_estimators': 50, 'criterion': 'entropy'}\n",
      "0.507 (+/-0.020) for {'max_features': 'sqrt', 'n_estimators': 10, 'criterion': 'entropy'}\n",
      "0.514 (+/-0.003) for {'max_features': 'sqrt', 'n_estimators': 20, 'criterion': 'entropy'}\n",
      "0.528 (+/-0.017) for {'max_features': 'sqrt', 'n_estimators': 30, 'criterion': 'entropy'}\n",
      "0.515 (+/-0.003) for {'max_features': 'sqrt', 'n_estimators': 40, 'criterion': 'entropy'}\n",
      "0.526 (+/-0.021) for {'max_features': 'sqrt', 'n_estimators': 50, 'criterion': 'entropy'}\n",
      "0.512 (+/-0.003) for {'max_features': 'log2', 'n_estimators': 10, 'criterion': 'entropy'}\n",
      "0.523 (+/-0.024) for {'max_features': 'log2', 'n_estimators': 20, 'criterion': 'entropy'}\n",
      "0.526 (+/-0.023) for {'max_features': 'log2', 'n_estimators': 30, 'criterion': 'entropy'}\n",
      "0.534 (+/-0.026) for {'max_features': 'log2', 'n_estimators': 40, 'criterion': 'entropy'}\n",
      "0.528 (+/-0.020) for {'max_features': 'log2', 'n_estimators': 50, 'criterion': 'entropy'}\n",
      "Detailed classification report:\n",
      "The model is trained on the full development set.\n",
      "The scores are computed on the full evaluation set.\n",
      "             precision    recall  f1-score   support\n",
      "\n",
      "          0       0.90      0.96      0.93      6653\n",
      "          1       0.50      0.29      0.36       969\n",
      "\n",
      "avg / total       0.85      0.87      0.86      7622\n",
      "\n",
      "# Tuning hyper-parameters for recall\n",
      "Best parameters set found on development set:\n",
      "{'max_features': 'auto', 'n_estimators': 50, 'criterion': 'entropy'}\n",
      "Grid scores on development set:\n",
      "0.293 (+/-0.032) for {'max_features': 'auto', 'n_estimators': 10, 'criterion': 'gini'}\n",
      "0.299 (+/-0.012) for {'max_features': 'auto', 'n_estimators': 20, 'criterion': 'gini'}\n",
      "0.293 (+/-0.025) for {'max_features': 'auto', 'n_estimators': 30, 'criterion': 'gini'}\n",
      "0.305 (+/-0.027) for {'max_features': 'auto', 'n_estimators': 40, 'criterion': 'gini'}\n",
      "0.300 (+/-0.017) for {'max_features': 'auto', 'n_estimators': 50, 'criterion': 'gini'}\n",
      "0.290 (+/-0.033) for {'max_features': 'sqrt', 'n_estimators': 10, 'criterion': 'gini'}\n",
      "0.288 (+/-0.015) for {'max_features': 'sqrt', 'n_estimators': 20, 'criterion': 'gini'}\n",
      "0.299 (+/-0.018) for {'max_features': 'sqrt', 'n_estimators': 30, 'criterion': 'gini'}\n",
      "0.300 (+/-0.017) for {'max_features': 'sqrt', 'n_estimators': 40, 'criterion': 'gini'}\n",
      "0.303 (+/-0.031) for {'max_features': 'sqrt', 'n_estimators': 50, 'criterion': 'gini'}\n",
      "0.276 (+/-0.032) for {'max_features': 'log2', 'n_estimators': 10, 'criterion': 'gini'}\n",
      "0.295 (+/-0.017) for {'max_features': 'log2', 'n_estimators': 20, 'criterion': 'gini'}\n",
      "0.306 (+/-0.034) for {'max_features': 'log2', 'n_estimators': 30, 'criterion': 'gini'}\n",
      "0.299 (+/-0.028) for {'max_features': 'log2', 'n_estimators': 40, 'criterion': 'gini'}\n",
      "0.299 (+/-0.033) for {'max_features': 'log2', 'n_estimators': 50, 'criterion': 'gini'}\n",
      "0.269 (+/-0.031) for {'max_features': 'auto', 'n_estimators': 10, 'criterion': 'entropy'}\n",
      "0.301 (+/-0.015) for {'max_features': 'auto', 'n_estimators': 20, 'criterion': 'entropy'}\n",
      "0.304 (+/-0.027) for {'max_features': 'auto', 'n_estimators': 30, 'criterion': 'entropy'}\n",
      "0.299 (+/-0.023) for {'max_features': 'auto', 'n_estimators': 40, 'criterion': 'entropy'}\n",
      "0.306 (+/-0.024) for {'max_features': 'auto', 'n_estimators': 50, 'criterion': 'entropy'}\n",
      "0.279 (+/-0.014) for {'max_features': 'sqrt', 'n_estimators': 10, 'criterion': 'entropy'}\n",
      "0.299 (+/-0.030) for {'max_features': 'sqrt', 'n_estimators': 20, 'criterion': 'entropy'}\n",
      "0.301 (+/-0.031) for {'max_features': 'sqrt', 'n_estimators': 30, 'criterion': 'entropy'}\n",
      "0.304 (+/-0.021) for {'max_features': 'sqrt', 'n_estimators': 40, 'criterion': 'entropy'}\n",
      "0.296 (+/-0.034) for {'max_features': 'sqrt', 'n_estimators': 50, 'criterion': 'entropy'}\n",
      "0.280 (+/-0.029) for {'max_features': 'log2', 'n_estimators': 10, 'criterion': 'entropy'}\n",
      "0.293 (+/-0.029) for {'max_features': 'log2', 'n_estimators': 20, 'criterion': 'entropy'}\n",
      "0.297 (+/-0.032) for {'max_features': 'log2', 'n_estimators': 30, 'criterion': 'entropy'}\n",
      "0.301 (+/-0.028) for {'max_features': 'log2', 'n_estimators': 40, 'criterion': 'entropy'}\n",
      "0.302 (+/-0.036) for {'max_features': 'log2', 'n_estimators': 50, 'criterion': 'entropy'}\n",
      "Detailed classification report:\n",
      "The model is trained on the full development set.\n",
      "The scores are computed on the full evaluation set.\n",
      "             precision    recall  f1-score   support\n",
      "\n",
      "          0       0.90      0.96      0.93      6653\n",
      "          1       0.51      0.29      0.37       969\n",
      "\n",
      "avg / total       0.85      0.87      0.86      7622\n",
      "\n"
     ]
    }
   ],
   "source": [
    "tuned_parameters = [{'n_estimators': [10,20,30,40,50], 'max_features': ['auto','sqrt','log2'],\n",
    "                     'criterion': ['gini', 'entropy']}]\n",
    "scores = ['precision', 'recall']\n",
    "model_search(RandomForestClassifier(), tuned_parameters, scores, x_train_std, y_train, x_test_std, y_test)"
   ]
  },
  {
   "cell_type": "code",
   "execution_count": null,
   "metadata": {
    "collapsed": true
   },
   "outputs": [],
   "source": [
    "tuned_parameters = [{'penalty': ['l1','l2'], 'C': [0.001,0.01,1.0,10,100,1000]}]\n",
    "scores = ['precision', 'recall']\n",
    "model_search(LogisticRegression(), tuned_parameters, scores, x_train_std, y_train, x_test_std, y_test)"
   ]
  },
  {
   "cell_type": "code",
   "execution_count": null,
   "metadata": {
    "collapsed": true
   },
   "outputs": [],
   "source": [
    "tuned_parameters = [{'criterion': ['gini', 'entropy'],'max_depth': [3,4,5,6,7], 'max_features': ['auto','log2']}]\n",
    "scores = ['precision', 'recall']\n",
    "model_search(DecisionTreeClassifier(), tuned_parameters, scores, x_train_std, y_train, x_test_std, y_test)"
   ]
  },
  {
   "cell_type": "code",
   "execution_count": 125,
   "metadata": {
    "collapsed": false
   },
   "outputs": [
    {
     "name": "stdout",
     "output_type": "stream",
     "text": [
      "              Accuracy  Precision    Recall        F1   ROC_AUC\n",
      "LogisticReg   0.888415   0.675276  0.236401  0.351827  0.794382\n",
      "GaussNB       0.777814   0.315061  0.643342  0.422865  0.775220\n",
      "DecisionTree  0.876214   0.712191  0.140648  0.259931  0.713402\n",
      "RandomForest  0.875525   0.521937  0.304630  0.381223  0.771889\n",
      "kNN           0.885693   0.639101  0.221740  0.328676  0.786038\n"
     ]
    },
    {
     "name": "stderr",
     "output_type": "stream",
     "text": [
      "/usr/local/lib/python2.7/site-packages/sklearn/metrics/classification.py:958: UndefinedMetricWarning: F-score is ill-defined and being set to 0.0 due to no predicted samples.\n",
      "  'precision', 'predicted', average, warn_for)\n"
     ]
    }
   ],
   "source": [
    "kf = cross_validation.KFold(len(X_values_scaled), n_folds=10, shuffle=True)\n",
    "models = [LogisticRegression(C=0.1), GaussianNB(), DecisionTreeClassifier(max_features='log2',max_depth=3,criterion='entropy'), RandomForestClassifier(n_estimators=30,criterion='entropy'), KNeighborsClassifier(30)]\n",
    "scores = [\"accuracy\", \"precision\", \"recall\", \"f1\", \"roc_auc\"]\n",
    "\n",
    "LogisticReg = []\n",
    "GaussNB = []\n",
    "DecisionTree = []\n",
    "RandomForest = []\n",
    "kNN = []\n",
    "\n",
    "lists = [LogisticReg, GaussNB, DecisionTree, RandomForest, kNN]\n",
    "\n",
    "for i, model in enumerate(models):\n",
    "    for score in scores:\n",
    "        pred = np.mean(cross_val_score(model, X, y, scoring=score, cv=kf, n_jobs=1))\n",
    "        lists[i].append(pred)\n",
    "\n",
    "scores_df = pd.DataFrame(data = [LogisticReg, GaussNB, DecisionTree, RandomForest, kNN])\n",
    "scores_df.index = [\"LogisticReg\", \"GaussNB\", \"DecisionTree\", \"RandomForest\", \"kNN\"]\n",
    "scores_df.columns = [\"Accuracy\", \"Precision\", \"Recall\", \"F1\",\"ROC_AUC\"]\n",
    "    \n",
    "print scores_df\n",
    "\n"
   ]
  },
  {
   "cell_type": "code",
   "execution_count": 31,
   "metadata": {
    "collapsed": false,
    "scrolled": true
   },
   "outputs": [
    {
     "data": {
      "text/plain": [
       "array([  1.08005360e-01,   2.71436035e-07,   4.10539092e-02,\n",
       "         2.55037662e-02,   8.25326635e-02,   2.42040542e-02,\n",
       "         1.39538946e-02,   1.38793637e-02,   2.18250232e-02,\n",
       "         2.47403812e-02,   1.19544540e-01,   6.24616393e-02,\n",
       "         1.50570440e-02,   9.74057174e-03,   2.56935446e-02,\n",
       "         1.19037971e-02,   1.14830248e-02,   4.86565719e-03,\n",
       "         8.83299623e-03,   1.33430895e-02,   1.99058928e-02,\n",
       "         1.71605776e-02,   1.50152626e-02,   2.24166868e-02,\n",
       "         1.68052131e-02,   1.16345858e-02,   8.72321892e-03,\n",
       "         4.53934919e-03,   7.34122530e-03,   1.53226187e-03,\n",
       "         7.63494301e-03,   1.10513458e-02,   1.44029803e-02,\n",
       "         7.21075869e-03,   7.97850247e-03,   1.21721651e-02,\n",
       "         5.11624387e-03,   1.94468193e-02,   2.44856526e-02,\n",
       "         1.94440461e-02,   2.13707712e-02,   1.85521227e-02,\n",
       "         9.48927309e-03,   1.44622020e-02,   4.34833079e-02])"
      ]
     },
     "execution_count": 31,
     "metadata": {},
     "output_type": "execute_result"
    }
   ],
   "source": [
    "#Feature search: eliminate unimportant features\n",
    "\n",
    "from sklearn.ensemble import ExtraTreesClassifier\n",
    "clf = ExtraTreesClassifier()\n",
    "X_new = clf.fit(x_train_std, y_train).transform(x_train_std)\n",
    "#clf.feature_importances_  \n",
    "# X_new.shape  \n"
   ]
  },
  {
   "cell_type": "code",
   "execution_count": 113,
   "metadata": {
    "collapsed": false
   },
   "outputs": [
    {
     "name": "stdout",
     "output_type": "stream",
     "text": [
      "[[  1.25416396e-03  -4.71654866e-02  -1.32957426e-02  -9.12429650e-03\n",
      "   -1.16157709e-01  -2.02888328e-01  -5.43330944e-02  -2.33809768e+00\n",
      "    1.21946282e+00   1.42164890e-01   2.79898290e-01   5.27886263e-01\n",
      "   -3.98082820e-02  -1.07905583e-02   6.33216032e-03   4.76906364e-02\n",
      "   -3.18389240e-04   4.93166528e-02  -4.66639481e-03  -1.51533453e-02\n",
      "   -1.16837970e-03   1.17224604e-02  -8.36123558e-03  -3.47227623e-02\n",
      "    4.27538670e-02   1.65552389e-01  -1.65552389e-01   5.01311077e-02\n",
      "    2.07921331e-01   3.03321176e-02   5.72677971e-02  -1.69668660e-01\n",
      "    1.97357156e-01  -1.31613310e-01  -9.54825803e-02   3.77087066e-02\n",
      "    4.61676535e-02  -2.95871987e-02  -8.54032913e-02   2.77342504e-02\n",
      "    1.94592918e-02   6.80280192e-02  -9.63435693e-02   3.06413400e-02\n",
      "    1.01508877e-01]]\n"
     ]
    }
   ],
   "source": [
    "print modelLR.coef_"
   ]
  },
  {
   "cell_type": "code",
   "execution_count": 109,
   "metadata": {
    "collapsed": false
   },
   "outputs": [
    {
     "name": "stdout",
     "output_type": "stream",
     "text": [
      "[[ 0.21188711  0.72747746  0.8040951   0.78666491  0.401648   -1.42658398\n",
      "   1.42658398 -0.42546303 -0.36671436 -0.12674168]\n",
      " [ 0.21188711 -1.07334749 -0.76586663 -1.15627695 -0.82112839  0.7009752\n",
      "  -0.7009752  -0.42546303 -0.36671436 -0.12674168]\n",
      " [ 0.21188711 -1.07334749 -1.07678397 -1.20016617 -0.82112839  0.7009752\n",
      "  -0.7009752  -0.42546303 -0.36671436 -0.12674168]\n",
      " [ 0.21188711  0.91376969  1.60872185  0.84349582  0.89528243 -1.42658398\n",
      "   1.42658398 -0.42546303  2.72691802 -0.12674168]\n",
      " [ 0.21188711 -1.07334749 -0.76586663 -1.15346354 -0.82112839  0.7009752\n",
      "  -0.7009752  -0.42546303 -0.36671436 -0.12674168]]\n"
     ]
    }
   ],
   "source": [
    "modelLR = LogisticRegression()\n",
    "modelLR.fit(x_train_std, y_train)\n",
    "y_predicted = modelLR.predict(x_test_std)\n",
    "modelLR.coef_\n",
    "test_features = modelLR.transform(x_train,threshold='mean')\n",
    "print test_features[:5] "
   ]
  },
  {
   "cell_type": "code",
   "execution_count": 112,
   "metadata": {
    "collapsed": false
   },
   "outputs": [
    {
     "data": {
      "text/plain": [
       "array([[ 0.48096537, -0.00992013, -1.08759349, -0.43055897, -0.55933525,\n",
       "         0.21188711, -0.3716159 ,  0.72747746,  0.8040951 ,  0.87745109,\n",
       "         0.78666491,  0.401648  , -0.47823713, -0.28638654,  0.88677582,\n",
       "        -0.20381709, -0.27757536, -0.14288583, -0.22167479, -0.36319438,\n",
       "         0.86195604, -0.66985458, -0.40636394,  0.96702208, -0.72015916,\n",
       "        -1.42658398,  1.42658398, -0.27302509, -0.42546303, -0.07194597,\n",
       "        -0.44719599, -0.36671436, -0.12674168,  1.46028629, -0.35988867,\n",
       "        -0.14666431, -0.12846731, -0.48128924, -0.50928023, -0.51519879,\n",
       "        -0.4926807 ,  1.99440032, -0.35785071,  0.4243334 , -0.20162497],\n",
       "       [-0.2932262 , -0.00992013, -1.08759349, -0.43055897, -0.55933525,\n",
       "         0.21188711, -0.3716159 , -1.07334749, -0.76586663, -1.35675611,\n",
       "        -1.15627695, -0.82112839, -0.47823713, -0.28638654, -1.12768072,\n",
       "        -0.20381709,  3.60262526, -0.14288583, -0.22167479, -0.36319438,\n",
       "         0.86195604, -0.66985458, -0.40636394,  0.96702208, -0.72015916,\n",
       "         0.7009752 , -0.7009752 ,  3.66266706, -0.42546303, -0.07194597,\n",
       "        -0.44719599, -0.36671436, -0.12674168, -0.68479723, -0.35988867,\n",
       "        -0.14666431, -0.12846731,  2.07775267, -0.50928023, -0.51519879,\n",
       "        -0.4926807 , -0.50140385, -0.35785071,  0.4243334 , -0.20162497],\n",
       "       [-0.77709593, -0.00992013,  0.91946119, -0.43055897, -0.55933525,\n",
       "         0.21188711, -0.3716159 , -1.07334749, -1.07678397, -1.16883214,\n",
       "        -1.20016617, -0.82112839,  2.09101287, -0.28638654, -1.12768072,\n",
       "        -0.20381709, -0.27757536, -0.14288583, -0.22167479, -0.36319438,\n",
       "        -1.16015197,  1.49286134, -0.40636394,  0.96702208, -0.72015916,\n",
       "         0.7009752 , -0.7009752 , -0.27302509, -0.42546303, -0.07194597,\n",
       "        -0.44719599, -0.36671436, -0.12674168,  1.46028629, -0.35988867,\n",
       "        -0.14666431, -0.12846731, -0.48128924, -0.50928023,  1.94099835,\n",
       "        -0.4926807 , -0.50140385, -0.35785071,  0.4243334 , -0.20162497],\n",
       "       [ 0.67451326, -0.00992013,  0.91946119,  2.32256223,  3.85225782,\n",
       "         0.21188711, -0.3716159 ,  0.91376969,  1.60872185, -0.25009273,\n",
       "         0.84349582,  0.89528243,  2.09101287, -0.28638654, -1.12768072,\n",
       "        -0.20381709, -0.27757536, -0.14288583, -0.22167479,  2.75334661,\n",
       "        -1.16015197, -0.66985458, -0.40636394,  0.96702208, -0.72015916,\n",
       "        -1.42658398,  1.42658398, -0.27302509, -0.42546303, -0.07194597,\n",
       "        -0.44719599,  2.72691802, -0.12674168, -0.68479723, -0.35988867,\n",
       "        -0.14666431, -0.12846731,  2.07775267, -0.50928023, -0.51519879,\n",
       "        -0.4926807 , -0.50140385, -0.35785071,  0.4243334 , -0.20162497],\n",
       "       [ 0.28741748, -0.00992013, -1.08759349, -0.43055897,  0.54356302,\n",
       "         0.21188711, -0.3716159 , -1.07334749, -0.76586663, -1.35675611,\n",
       "        -1.15346354, -0.82112839,  2.09101287, -0.28638654, -1.12768072,\n",
       "        -0.20381709, -0.27757536, -0.14288583, -0.22167479, -0.36319438,\n",
       "         0.86195604, -0.66985458, -0.40636394,  0.96702208, -0.72015916,\n",
       "         0.7009752 , -0.7009752 ,  3.66266706, -0.42546303, -0.07194597,\n",
       "        -0.44719599, -0.36671436, -0.12674168, -0.68479723, -0.35988867,\n",
       "        -0.14666431, -0.12846731, -0.48128924, -0.50928023,  1.94099835,\n",
       "        -0.4926807 , -0.50140385, -0.35785071,  0.4243334 , -0.20162497]])"
      ]
     },
     "execution_count": 112,
     "metadata": {},
     "output_type": "execute_result"
    }
   ],
   "source": [
    "x_train[:5]"
   ]
  },
  {
   "cell_type": "code",
   "execution_count": 115,
   "metadata": {
    "collapsed": false
   },
   "outputs": [
    {
     "data": {
      "text/plain": [
       "age                                int64\n",
       "default                          float64\n",
       "housing                          float64\n",
       "loan                             float64\n",
       "campaign                           int64\n",
       "pdays                              int64\n",
       "previous                           int64\n",
       "emp.var.rate                     float64\n",
       "cons.price.idx                   float64\n",
       "cons.conf.idx                    float64\n",
       "euribor3m                        float64\n",
       "nr.employed                      float64\n",
       "job_blue-collar                  float64\n",
       "job_management                   float64\n",
       "job_professional                 float64\n",
       "job_retired                      float64\n",
       "job_self-employed                float64\n",
       "job_student                      float64\n",
       "job_unemployed                   float64\n",
       "marital_divorced                 float64\n",
       "marital_married                  float64\n",
       "marital_single                   float64\n",
       "education_professional.course    float64\n",
       "education_some                   float64\n",
       "education_university.degree      float64\n",
       "contact_cellular                 float64\n",
       "contact_telephone                float64\n",
       "month_apr                        float64\n",
       "month_aug                        float64\n",
       "month_dec                        float64\n",
       "month_jul                        float64\n",
       "month_jun                        float64\n",
       "month_mar                        float64\n",
       "month_may                        float64\n",
       "month_nov                        float64\n",
       "month_oct                        float64\n",
       "month_sep                        float64\n",
       "day_of_week_fri                  float64\n",
       "day_of_week_mon                  float64\n",
       "day_of_week_thu                  float64\n",
       "day_of_week_tue                  float64\n",
       "day_of_week_wed                  float64\n",
       "poutcome_failure                 float64\n",
       "poutcome_nonexistent             float64\n",
       "poutcome_success                 float64\n",
       "output                             int64\n",
       "dtype: object"
      ]
     },
     "execution_count": 115,
     "metadata": {},
     "output_type": "execute_result"
    }
   ],
   "source": [
    "df.dtypes"
   ]
  },
  {
   "cell_type": "code",
   "execution_count": null,
   "metadata": {
    "collapsed": true
   },
   "outputs": [],
   "source": [
    "models = {'logistic': LogisticRegression(),\n",
    "          'rf': RandomForestClassifier(n_estimators=200),\n",
    "          'knn': KNeighborsClassifier(n_neighbors=30),\n",
    "          'svc': SVC(probability=True),\n",
    "          'tree': DecisionTreeClassifier(),\n",
    "          #'gbm1': GradientBoostingClassifier(learning_rate=0.4,  n_estimators=200, subsample=1.0, random_state=1, verbose=1),\n",
    "          #'gbm2': GradientBoostingClassifier(learning_rate=0.04, n_estimators=200, subsample=0.9, random_state=1, verbose=1),\n",
    "         }\n",
    "stage_preds = {}\n",
    "final_preds = {}"
   ]
  },
  {
   "cell_type": "code",
   "execution_count": null,
   "metadata": {
    "collapsed": true
   },
   "outputs": [],
   "source": [
    "# for mname, m in models.iteritems():\n",
    "#     print \"*** %s\" % mname\n",
    "#     m.fit(train_std, train_t)\n",
    " \n",
    "    \n",
    "#     if hasattr(m, \"staged_predict_proba\"):\n",
    "#         stage_preds[mname] = {'train': list(m.staged_predict_proba(train_std)),  'test': list(m.staged_predict_proba(test_std))}\n",
    "#     #if hasattr(m, \"predict_proba\"):\n",
    "#     final_preds[mname] = {'train': m.predict_proba(train),  'test': m.predict_proba(test)}"
   ]
  }
 ],
 "metadata": {
  "kernelspec": {
   "display_name": "Python 2",
   "language": "python",
   "name": "python2"
  },
  "language_info": {
   "codemirror_mode": {
    "name": "ipython",
    "version": 2
   },
   "file_extension": ".py",
   "mimetype": "text/x-python",
   "name": "python",
   "nbconvert_exporter": "python",
   "pygments_lexer": "ipython2",
   "version": "2.7.9"
  }
 },
 "nbformat": 4,
 "nbformat_minor": 0
}
